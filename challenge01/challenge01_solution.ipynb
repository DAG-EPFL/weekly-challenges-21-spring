{
 "cells": [
  {
   "cell_type": "markdown",
   "metadata": {},
   "source": [
    "<img src=\"https://i.ibb.co/hcrKx44/Weekly-Challenge-Banner.png\" >"
   ]
  },
  {
   "cell_type": "markdown",
   "metadata": {},
   "source": [
    "# Weekly Challenge 1\n",
    "## Description\n",
    "\n",
    "Welcome to the first challenge! This week, you will perform a _data wrangling_ task with [pandas](https://pandas.pydata.org/), a standard data science library."
   ]
  },
  {
   "cell_type": "markdown",
   "metadata": {},
   "source": [
    "## About the data\n",
    "\n",
    "The data for this challenge includes demographic statistics for Swiss districts and communes in 2019. \n",
    "\n",
    "More details about the dataset can be found [here](https://www.bfs.admin.ch/bfs/fr/home/statistiques/population/effectif-evolution/repartition-territoriale.assetdetail.13707350.html).\n",
    "\n",
    "You can see that some of the rows do not actually contain data from a commune but statistics for the cantons themselves (e.g., \"- Zürich\" in the first line)."
   ]
  },
  {
   "cell_type": "markdown",
   "metadata": {},
   "source": [
    "## The task\n",
    "\n",
    "Some cities share the same name (e.g., **Ecublens** in Vaud and in Fribourg). Your task is to find the population of the canton with the most reduplicated commune names!"
   ]
  },
  {
   "cell_type": "code",
   "execution_count": 1,
   "metadata": {},
   "source": [
    "import pandas as pd\n",
    "\n",
    "# Load the data\n",
    "df = pd.read_excel('data/demographic_stats.xlsx', skiprows=4, skipfooter=6, sheet_name='2019', \n",
    "                   usecols=list(range(4)), names=['Commune', 'Population', 'Births', 'Deaths'], \n",
    "                   index_col='Commune')\n",
    "\n",
    "# Load canton name abbreviations\n",
    "abbreviations = pd.read_csv('data/abbreviations.txt', delimiter = '\\t', index_col=0)"
   ],
   "outputs": [
    {
     "output_type": "stream",
     "name": "stderr",
     "text": [
      "ipykernel_launcher:6: FutureWarning: Your version of xlrd is 1.2.0. In xlrd >= 2.0, only the xls format is supported. As a result, the openpyxl engine will be used if it is installed and the engine argument is not specified. Install openpyxl instead.\n"
     ]
    }
   ]
  },
  {
   "cell_type": "code",
   "execution_count": 2,
   "metadata": {},
   "outputs": [
    {
     "output_type": "execute_result",
     "data": {
      "text/plain": [
       "                                         Population  Births  Deaths\n",
       "Commune                                                            \n",
       "......5583 Crissier                            7930      88      29\n",
       "......5589 Prilly                             12399     134     109\n",
       "......5591 Renens (VD)                        20927     226     130\n",
       "......5624 Bussigny                            8736     109      37\n",
       "......5627 Chavannes-près-Renens               7727     113      32\n",
       "......5635 Ecublens (VD)                      12863     136      73\n",
       "......5648 Saint-Sulpice (VD)                  4668      41      28\n",
       "......5651 Villars-Sainte-Croix                 962       8       5\n",
       ">> District de la Riviera-Pays-d'Enhaut       84980     790     723\n",
       "......5841 Château-d'Oex                       3461      32      42\n",
       "......5842 Rossinière                           546       7       5\n",
       "......5843 Rougemont                            882       9      15"
      ],
      "text/html": "<div>\n<style scoped>\n    .dataframe tbody tr th:only-of-type {\n        vertical-align: middle;\n    }\n\n    .dataframe tbody tr th {\n        vertical-align: top;\n    }\n\n    .dataframe thead th {\n        text-align: right;\n    }\n</style>\n<table border=\"1\" class=\"dataframe\">\n  <thead>\n    <tr style=\"text-align: right;\">\n      <th></th>\n      <th>Population</th>\n      <th>Births</th>\n      <th>Deaths</th>\n    </tr>\n    <tr>\n      <th>Commune</th>\n      <th></th>\n      <th></th>\n      <th></th>\n    </tr>\n  </thead>\n  <tbody>\n    <tr>\n      <th>......5583 Crissier</th>\n      <td>7930</td>\n      <td>88</td>\n      <td>29</td>\n    </tr>\n    <tr>\n      <th>......5589 Prilly</th>\n      <td>12399</td>\n      <td>134</td>\n      <td>109</td>\n    </tr>\n    <tr>\n      <th>......5591 Renens (VD)</th>\n      <td>20927</td>\n      <td>226</td>\n      <td>130</td>\n    </tr>\n    <tr>\n      <th>......5624 Bussigny</th>\n      <td>8736</td>\n      <td>109</td>\n      <td>37</td>\n    </tr>\n    <tr>\n      <th>......5627 Chavannes-près-Renens</th>\n      <td>7727</td>\n      <td>113</td>\n      <td>32</td>\n    </tr>\n    <tr>\n      <th>......5635 Ecublens (VD)</th>\n      <td>12863</td>\n      <td>136</td>\n      <td>73</td>\n    </tr>\n    <tr>\n      <th>......5648 Saint-Sulpice (VD)</th>\n      <td>4668</td>\n      <td>41</td>\n      <td>28</td>\n    </tr>\n    <tr>\n      <th>......5651 Villars-Sainte-Croix</th>\n      <td>962</td>\n      <td>8</td>\n      <td>5</td>\n    </tr>\n    <tr>\n      <th>&gt;&gt; District de la Riviera-Pays-d'Enhaut</th>\n      <td>84980</td>\n      <td>790</td>\n      <td>723</td>\n    </tr>\n    <tr>\n      <th>......5841 Château-d'Oex</th>\n      <td>3461</td>\n      <td>32</td>\n      <td>42</td>\n    </tr>\n    <tr>\n      <th>......5842 Rossinière</th>\n      <td>546</td>\n      <td>7</td>\n      <td>5</td>\n    </tr>\n    <tr>\n      <th>......5843 Rougemont</th>\n      <td>882</td>\n      <td>9</td>\n      <td>15</td>\n    </tr>\n  </tbody>\n</table>\n</div>"
     },
     "metadata": {},
     "execution_count": 2
    }
   ],
   "source": [
    "df.iloc[2075:2087]"
   ]
  },
  {
   "cell_type": "code",
   "execution_count": 3,
   "metadata": {},
   "outputs": [
    {
     "output_type": "execute_result",
     "data": {
      "text/plain": [
       "               Canton\n",
       "Abbreviation         \n",
       "ZH             Zürich\n",
       "BE               Bern\n",
       "LU            Lucerne\n",
       "UR                Uri\n",
       "SZ             Schwyz"
      ],
      "text/html": "<div>\n<style scoped>\n    .dataframe tbody tr th:only-of-type {\n        vertical-align: middle;\n    }\n\n    .dataframe tbody tr th {\n        vertical-align: top;\n    }\n\n    .dataframe thead th {\n        text-align: right;\n    }\n</style>\n<table border=\"1\" class=\"dataframe\">\n  <thead>\n    <tr style=\"text-align: right;\">\n      <th></th>\n      <th>Canton</th>\n    </tr>\n    <tr>\n      <th>Abbreviation</th>\n      <th></th>\n    </tr>\n  </thead>\n  <tbody>\n    <tr>\n      <th>ZH</th>\n      <td>Zürich</td>\n    </tr>\n    <tr>\n      <th>BE</th>\n      <td>Bern</td>\n    </tr>\n    <tr>\n      <th>LU</th>\n      <td>Lucerne</td>\n    </tr>\n    <tr>\n      <th>UR</th>\n      <td>Uri</td>\n    </tr>\n    <tr>\n      <th>SZ</th>\n      <td>Schwyz</td>\n    </tr>\n  </tbody>\n</table>\n</div>"
     },
     "metadata": {},
     "execution_count": 3
    }
   ],
   "source": [
    "abbreviations.head()"
   ]
  },
  {
   "source": [
    "## Solution\n",
    "\n",
    "There are actually two different solutions. The first is very straightfoward: start with all communes, then only keep the commune whose name has a canton indication in parentheses (e.g., `Ecublens (VD)`), then only keep the canton indication part, count the number of occurrences of each canton abbreviation, find the canton that appears most often, and finally use the initial data to extract the population of that canton. The code below does this step-by-step:"
   ],
   "cell_type": "markdown",
   "metadata": {}
  },
  {
   "source": [
    "### First way: assume that a canton indication in parentheses means that the commune name is not unique"
   ],
   "cell_type": "markdown",
   "metadata": {}
  },
  {
   "source": [
    "#### The short way"
   ],
   "cell_type": "markdown",
   "metadata": {}
  },
  {
   "cell_type": "code",
   "execution_count": 4,
   "metadata": {},
   "outputs": [
    {
     "output_type": "execute_result",
     "data": {
      "text/plain": [
       "694207"
      ]
     },
     "metadata": {},
     "execution_count": 4
    }
   ],
   "source": [
    "df.loc['- ' + abbreviations.loc[df[df.index.str.contains('\\(')].index.map(lambda x: x[-3:-1]).value_counts().index[0]].Canton].Population"
   ]
  },
  {
   "source": [
    "#### The long way:"
   ],
   "cell_type": "markdown",
   "metadata": {}
  },
  {
   "cell_type": "code",
   "execution_count": 5,
   "metadata": {},
   "outputs": [
    {
     "output_type": "execute_result",
     "data": {
      "text/plain": [
       "                              Population  Births  Deaths\n",
       "Commune                                                 \n",
       "......6087 Saint-Martin (VS)         825       1       8\n",
       "......6202 Wiler (Lötschen)          565       2       4\n",
       "......6293 Stalden (VS)             1086       8      16\n",
       "......6452 Cressier (NE)            1887      19      12\n",
       "......6454 Hauterive (NE)           2623      32      17\n",
       "......6608 Carouge (GE)            22458     267     111\n",
       "......6619 Corsier (GE)             2108      18      11\n",
       "......6704 Châtillon (JU)            481       3       3\n",
       "......6741 Le Bémont (JU)            317       3       2\n",
       "......6748 Les Genevez (JU)          502       4       7\n",
       "......6750 Lajoux (JU)               673       8       1"
      ],
      "text/html": "<div>\n<style scoped>\n    .dataframe tbody tr th:only-of-type {\n        vertical-align: middle;\n    }\n\n    .dataframe tbody tr th {\n        vertical-align: top;\n    }\n\n    .dataframe thead th {\n        text-align: right;\n    }\n</style>\n<table border=\"1\" class=\"dataframe\">\n  <thead>\n    <tr style=\"text-align: right;\">\n      <th></th>\n      <th>Population</th>\n      <th>Births</th>\n      <th>Deaths</th>\n    </tr>\n    <tr>\n      <th>Commune</th>\n      <th></th>\n      <th></th>\n      <th></th>\n    </tr>\n  </thead>\n  <tbody>\n    <tr>\n      <th>......6087 Saint-Martin (VS)</th>\n      <td>825</td>\n      <td>1</td>\n      <td>8</td>\n    </tr>\n    <tr>\n      <th>......6202 Wiler (Lötschen)</th>\n      <td>565</td>\n      <td>2</td>\n      <td>4</td>\n    </tr>\n    <tr>\n      <th>......6293 Stalden (VS)</th>\n      <td>1086</td>\n      <td>8</td>\n      <td>16</td>\n    </tr>\n    <tr>\n      <th>......6452 Cressier (NE)</th>\n      <td>1887</td>\n      <td>19</td>\n      <td>12</td>\n    </tr>\n    <tr>\n      <th>......6454 Hauterive (NE)</th>\n      <td>2623</td>\n      <td>32</td>\n      <td>17</td>\n    </tr>\n    <tr>\n      <th>......6608 Carouge (GE)</th>\n      <td>22458</td>\n      <td>267</td>\n      <td>111</td>\n    </tr>\n    <tr>\n      <th>......6619 Corsier (GE)</th>\n      <td>2108</td>\n      <td>18</td>\n      <td>11</td>\n    </tr>\n    <tr>\n      <th>......6704 Châtillon (JU)</th>\n      <td>481</td>\n      <td>3</td>\n      <td>3</td>\n    </tr>\n    <tr>\n      <th>......6741 Le Bémont (JU)</th>\n      <td>317</td>\n      <td>3</td>\n      <td>2</td>\n    </tr>\n    <tr>\n      <th>......6748 Les Genevez (JU)</th>\n      <td>502</td>\n      <td>4</td>\n      <td>7</td>\n    </tr>\n    <tr>\n      <th>......6750 Lajoux (JU)</th>\n      <td>673</td>\n      <td>8</td>\n      <td>1</td>\n    </tr>\n  </tbody>\n</table>\n</div>"
     },
     "metadata": {},
     "execution_count": 5
    }
   ],
   "source": [
    "# Step 1: only keep rows that contain an opening parenthesis\n",
    "communes = df[df.index.str.contains('\\(')]\n",
    "communes.tail(11)"
   ]
  },
  {
   "source": [
    "As we can see, some communes have parentheses in their name even though the value in-between parentheses doesn't stand for a canton. Thankfully, this is not a problem since we will only consider the value in-between parentheses that occurs most often."
   ],
   "cell_type": "markdown",
   "metadata": {}
  },
  {
   "cell_type": "code",
   "execution_count": 6,
   "metadata": {},
   "outputs": [
    {
     "output_type": "execute_result",
     "data": {
      "text/plain": [
       "Index(['ZH', 'ZH', 'ZH', 'ZH', 'ZH', 'ZH', 'ZH', 'ZH', 'ZH', 'ZH',\n",
       "       ...\n",
       "       'en', 'VS', 'NE', 'NE', 'GE', 'GE', 'JU', 'JU', 'JU', 'JU'],\n",
       "      dtype='object', name='Commune', length=173)"
      ]
     },
     "metadata": {},
     "execution_count": 6
    }
   ],
   "source": [
    "# Step 2: extract value in-between parentheses from commune name\n",
    "cantons = communes.index.map(lambda x: x[-3:-1])\n",
    "cantons"
   ]
  },
  {
   "cell_type": "code",
   "execution_count": 7,
   "metadata": {},
   "outputs": [
    {
     "output_type": "execute_result",
     "data": {
      "text/plain": [
       "AG    21\n",
       "BE    20\n",
       "ZH    16\n",
       "FR    16\n",
       "VD    15\n",
       "Name: Commune, dtype: int64"
      ]
     },
     "metadata": {},
     "execution_count": 7
    }
   ],
   "source": [
    "# Step 3: rank by number of occurences\n",
    "ranking = cantons.value_counts()\n",
    "ranking.head()"
   ]
  },
  {
   "cell_type": "code",
   "execution_count": 8,
   "metadata": {},
   "outputs": [
    {
     "output_type": "execute_result",
     "data": {
      "text/plain": [
       "'Aargau'"
      ]
     },
     "metadata": {},
     "execution_count": 8
    }
   ],
   "source": [
    "# Step 4: keep top entry of ranking\n",
    "abbreviation = ranking.index[0]\n",
    "\n",
    "# Step 5: map abbreviation to canton name\n",
    "canton = abbreviations.loc[abbreviation].Canton\n",
    "canton"
   ]
  },
  {
   "source": [
    "And so the canton with the most reduplicated commune names is **Aargau**."
   ],
   "cell_type": "markdown",
   "metadata": {}
  },
  {
   "cell_type": "code",
   "execution_count": 9,
   "metadata": {},
   "outputs": [
    {
     "output_type": "execute_result",
     "data": {
      "text/plain": [
       "694207"
      ]
     },
     "metadata": {},
     "execution_count": 9
    }
   ],
   "source": [
    "# Step 6: extract population of this canton\n",
    "# The dataframe contains entries like '- Vaud' that \n",
    "# contain the total stats for each canton\n",
    "population = df.loc['- ' + canton].Population\n",
    "population"
   ]
  },
  {
   "source": [
    "And there we go, `694207` is the first possible solution."
   ],
   "cell_type": "markdown",
   "metadata": {}
  },
  {
   "source": [
    "### Second way: check if the commune names with parentheses are actually not unique\n",
    "\n",
    "One could also manually check if a commune name is unique or not, and perform the same ranking as above but without the assumption that the canton indication between parentheses means that the commune name is unique. As it turns out, this is the better way to do it: the commune `Renens` for instance, denoted as `Renens (VD)`, only exists once in Switzerland. "
   ],
   "cell_type": "markdown",
   "metadata": {}
  },
  {
   "cell_type": "code",
   "execution_count": 10,
   "metadata": {},
   "outputs": [],
   "source": [
    "# Step 1: map commune name to \"true\" name by removing the leading dots and numbers\n",
    "# and the trailing indication in-between parentheses if it exists\n",
    "def map_name(x):\n",
    "    if x.startswith('-'):\n",
    "        # do not change canton names\n",
    "        return x\n",
    "\n",
    "    # otherwise, remove dots and zip codes\n",
    "    cleaned = ' '.join(x.split(' ')[1:])\n",
    "\n",
    "    if '(' in cleaned:\n",
    "        # remove everything after the opening parenthesis\n",
    "        return cleaned[:cleaned.index('(')-1]\n",
    "    else:\n",
    "        return cleaned"
   ]
  },
  {
   "source": [
    "# Step 2: map commune names using the above method and rank them\n",
    "counts = df.index.map(map_name).value_counts()\n",
    "counts.head()"
   ],
   "cell_type": "code",
   "metadata": {},
   "execution_count": 11,
   "outputs": [
    {
     "output_type": "execute_result",
     "data": {
      "text/plain": [
       "Rickenbach    5\n",
       "Aesch         3\n",
       "Oberdorf      3\n",
       "Buchs         3\n",
       "Wald          3\n",
       "Name: Commune, dtype: int64"
      ]
     },
     "metadata": {},
     "execution_count": 11
    }
   ]
  },
  {
   "cell_type": "code",
   "execution_count": 12,
   "metadata": {},
   "outputs": [
    {
     "output_type": "execute_result",
     "data": {
      "text/plain": [
       "FR    11\n",
       "BE    10\n",
       "ZH    10\n",
       "AG     9\n",
       "SG     8\n",
       "Name: Commune, dtype: int64"
      ]
     },
     "metadata": {},
     "execution_count": 12
    }
   ],
   "source": [
    "# Step 3: only keep commune names that occur more than once\n",
    "duplicated = counts[counts > 1]\n",
    "duplicated = df[df.index.map(lambda x: map_name(x) in duplicated.index)]\n",
    "\n",
    "# Step 4: do the same as in the first approach, but only with the duplicated communes\n",
    "# The assumption here is that even though a canton indication in a commune name might\n",
    "# not be sufficient for it to be non-unique, it is definitely necessary\n",
    "counts = duplicated.index.map(lambda x: x[-3:-1]).value_counts()\n",
    "counts.head()"
   ]
  },
  {
   "source": [
    "As we can see, the top canton is now **Fribourg**."
   ],
   "cell_type": "markdown",
   "metadata": {}
  },
  {
   "cell_type": "code",
   "execution_count": 13,
   "metadata": {},
   "outputs": [
    {
     "output_type": "execute_result",
     "data": {
      "text/plain": [
       "318714"
      ]
     },
     "metadata": {},
     "execution_count": 13
    }
   ],
   "source": [
    "df.loc['- ' + abbreviations.loc[counts.index[0]].Canton].Population"
   ]
  },
  {
   "source": [
    "And `318714` is the second possible solution."
   ],
   "cell_type": "markdown",
   "metadata": {}
  },
  {
   "cell_type": "markdown",
   "metadata": {},
   "source": [
    "## Congratulations to everyone that got the answer!"
   ]
  }
 ],
 "metadata": {
  "kernelspec": {
   "display_name": "Python 3",
   "language": "python",
   "name": "python3"
  },
  "language_info": {
   "codemirror_mode": {
    "name": "ipython",
    "version": 3
   },
   "file_extension": ".py",
   "mimetype": "text/x-python",
   "name": "python",
   "nbconvert_exporter": "python",
   "pygments_lexer": "ipython3",
   "version": "3.7.3-final"
  }
 },
 "nbformat": 4,
 "nbformat_minor": 4
}