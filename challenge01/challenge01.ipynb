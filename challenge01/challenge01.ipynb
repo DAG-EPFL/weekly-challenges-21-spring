{
 "cells": [
  {
   "cell_type": "markdown",
   "metadata": {},
   "source": [
    "<img src=\"https://i.ibb.co/hcrKx44/Weekly-Challenge-Banner.png\" >"
   ]
  },
  {
   "cell_type": "markdown",
   "metadata": {},
   "source": [
    "# Weekly Challenge 1\n",
    "## Description\n",
    "\n",
    "Welcome to the first challenge! This week, you will perform a _data wrangling_ task with [pandas](https://pandas.pydata.org/), a standard data science library."
   ]
  },
  {
   "cell_type": "markdown",
   "metadata": {},
   "source": [
    "## About the data\n",
    "\n",
    "The data for this challenge includes demographic statistics for Swiss districts and communes in 2019. \n",
    "\n",
    "More details about the dataset can be found [here](https://www.bfs.admin.ch/bfs/fr/home/statistiques/population/effectif-evolution/repartition-territoriale.assetdetail.13707350.html).\n",
    "\n",
    "You can see that some of the rows do not actually contain data from a commune but statistics for the cantons themselves (e.g., \"- Zürich\" in the first line)."
   ]
  },
  {
   "cell_type": "markdown",
   "metadata": {},
   "source": [
    "## The task\n",
    "\n",
    "Some cities share the same name (e.g., **Ecublens** in Vaud and in Fribourg). Your task is to find the population of the canton with the most reduplicated commune names!"
   ]
  },
  {
   "cell_type": "code",
   "execution_count": null,
   "metadata": {},
   "outputs": [],
   "source": [
    "import pandas as pd\n",
    "\n",
    "# Load the data\n",
    "df = pd.read_excel('data/demographic_stats.xlsx', skiprows=4, skipfooter=6, sheet_name='2019', \n",
    "                   usecols=list(range(4)), names=['Commune', 'Population', 'Births', 'Deaths'], \n",
    "                   index_col='Commune')\n",
    "\n",
    "# Load canton name abbreviations\n",
    "abbreviations = pd.read_csv('data/abbreviations.txt', delimiter = '\\t', index_col=0)"
   ]
  },
  {
   "cell_type": "code",
   "execution_count": null,
   "metadata": {},
   "outputs": [],
   "source": [
    "df.iloc[2075:2087]"
   ]
  },
  {
   "cell_type": "code",
   "execution_count": null,
   "metadata": {},
   "outputs": [],
   "source": [
    "abbreviations.head()"
   ]
  },
  {
   "cell_type": "code",
   "execution_count": null,
   "metadata": {},
   "outputs": [],
   "source": [
    "#################################################\n",
    "############# YOUR CODE STARTS HERE #############\n",
    "#################################################\n",
    "\n",
    "pass\n",
    "\n",
    "#################################################\n",
    "############## YOUR CODE ENDS HERE ##############\n",
    "#################################################"
   ]
  },
  {
   "cell_type": "markdown",
   "metadata": {},
   "source": [
    "## Submission\n",
    "\n",
    "Submit the **canton population** on the following link: [https://forms.gle/BBkKQcEQmA2CxYVD6](https://forms.gle/BBkKQcEQmA2CxYVD6)."
   ]
  }
 ],
 "metadata": {
  "kernelspec": {
   "display_name": "Python 3",
   "language": "python",
   "name": "python3"
  },
  "language_info": {
   "codemirror_mode": {
    "name": "ipython",
    "version": 3
   },
   "file_extension": ".py",
   "mimetype": "text/x-python",
   "name": "python",
   "nbconvert_exporter": "python",
   "pygments_lexer": "ipython3",
   "version": "3.6.9"
  }
 },
 "nbformat": 4,
 "nbformat_minor": 4
}