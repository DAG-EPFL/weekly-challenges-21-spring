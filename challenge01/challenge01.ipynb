{
 "cells": [
  {
   "cell_type": "markdown",
   "metadata": {},
   "source": [
    "<img src=\"https://i.ibb.co/hcrKx44/Weekly-Challenge-Banner.png\" >"
   ]
  },
  {
   "cell_type": "markdown",
   "metadata": {},
   "source": [
    "# Weekly Challenge 1\n",
    "## Description\n",
    "\n",
    "Welcome to the first challenge! This week, you will perform a _data wrangling_ task with [pandas](https://pandas.pydata.org/), a standard data science library."
   ]
  },
  {
   "cell_type": "markdown",
   "metadata": {},
   "source": [
    "## About the data\n",
    "\n",
    "The data for this challenge includes demographic statistics for Swiss districts and communes in 2019. \n",
    "\n",
    "More details about the dataset can be found [here](https://www.bfs.admin.ch/bfs/fr/home/statistiques/population/effectif-evolution/repartition-territoriale.assetdetail.13707350.html).\n",
    "\n",
    "You can see that some of the rows do not actually contain data from a commune but statistics for the cantons themselves (e.g., \"- Zürich\" in the first line)."
   ]
  },
  {
   "cell_type": "markdown",
   "metadata": {},
   "source": [
    "## The task\n",
    "\n",
    "Some cities share the same name (e.g., **Ecublens** in Vaud and in Fribourg). Your task is to find the population of the canton with the most reduplicated commune names!"
   ]
  },
  {
   "cell_type": "code",
   "execution_count": 1,
   "metadata": {},
   "outputs": [],
   "source": [
    "import pandas as pd\n",
    "\n",
    "# Load the data\n",
    "df = pd.read_excel('data/demographic_stats.xlsx', skiprows=4, skipfooter=6, sheet_name='2019', \n",
    "                   usecols=list(range(4)), names=['Commune', 'Population', 'Births', 'Deaths'], \n",
    "                   index_col='Commune')\n",
    "\n",
    "# Load canton name abbreviations\n",
    "abbreviations = pd.read_csv('data/abbreviations.txt', delimiter = '\\t', index_col=0)"
   ]
  },
  {
   "cell_type": "code",
   "execution_count": 2,
   "metadata": {},
   "outputs": [
    {
     "data": {
      "text/html": [
       "<div>\n",
       "<style scoped>\n",
       "    .dataframe tbody tr th:only-of-type {\n",
       "        vertical-align: middle;\n",
       "    }\n",
       "\n",
       "    .dataframe tbody tr th {\n",
       "        vertical-align: top;\n",
       "    }\n",
       "\n",
       "    .dataframe thead th {\n",
       "        text-align: right;\n",
       "    }\n",
       "</style>\n",
       "<table border=\"1\" class=\"dataframe\">\n",
       "  <thead>\n",
       "    <tr style=\"text-align: right;\">\n",
       "      <th></th>\n",
       "      <th>Population</th>\n",
       "      <th>Births</th>\n",
       "      <th>Deaths</th>\n",
       "    </tr>\n",
       "    <tr>\n",
       "      <th>Commune</th>\n",
       "      <th></th>\n",
       "      <th></th>\n",
       "      <th></th>\n",
       "    </tr>\n",
       "  </thead>\n",
       "  <tbody>\n",
       "    <tr>\n",
       "      <th>......5583 Crissier</th>\n",
       "      <td>7930</td>\n",
       "      <td>88</td>\n",
       "      <td>29</td>\n",
       "    </tr>\n",
       "    <tr>\n",
       "      <th>......5589 Prilly</th>\n",
       "      <td>12399</td>\n",
       "      <td>134</td>\n",
       "      <td>109</td>\n",
       "    </tr>\n",
       "    <tr>\n",
       "      <th>......5591 Renens (VD)</th>\n",
       "      <td>20927</td>\n",
       "      <td>226</td>\n",
       "      <td>130</td>\n",
       "    </tr>\n",
       "    <tr>\n",
       "      <th>......5624 Bussigny</th>\n",
       "      <td>8736</td>\n",
       "      <td>109</td>\n",
       "      <td>37</td>\n",
       "    </tr>\n",
       "    <tr>\n",
       "      <th>......5627 Chavannes-près-Renens</th>\n",
       "      <td>7727</td>\n",
       "      <td>113</td>\n",
       "      <td>32</td>\n",
       "    </tr>\n",
       "    <tr>\n",
       "      <th>......5635 Ecublens (VD)</th>\n",
       "      <td>12863</td>\n",
       "      <td>136</td>\n",
       "      <td>73</td>\n",
       "    </tr>\n",
       "    <tr>\n",
       "      <th>......5648 Saint-Sulpice (VD)</th>\n",
       "      <td>4668</td>\n",
       "      <td>41</td>\n",
       "      <td>28</td>\n",
       "    </tr>\n",
       "    <tr>\n",
       "      <th>......5651 Villars-Sainte-Croix</th>\n",
       "      <td>962</td>\n",
       "      <td>8</td>\n",
       "      <td>5</td>\n",
       "    </tr>\n",
       "    <tr>\n",
       "      <th>&gt;&gt; District de la Riviera-Pays-d'Enhaut</th>\n",
       "      <td>84980</td>\n",
       "      <td>790</td>\n",
       "      <td>723</td>\n",
       "    </tr>\n",
       "    <tr>\n",
       "      <th>......5841 Château-d'Oex</th>\n",
       "      <td>3461</td>\n",
       "      <td>32</td>\n",
       "      <td>42</td>\n",
       "    </tr>\n",
       "    <tr>\n",
       "      <th>......5842 Rossinière</th>\n",
       "      <td>546</td>\n",
       "      <td>7</td>\n",
       "      <td>5</td>\n",
       "    </tr>\n",
       "    <tr>\n",
       "      <th>......5843 Rougemont</th>\n",
       "      <td>882</td>\n",
       "      <td>9</td>\n",
       "      <td>15</td>\n",
       "    </tr>\n",
       "  </tbody>\n",
       "</table>\n",
       "</div>"
      ],
      "text/plain": [
       "                                         Population  Births  Deaths\n",
       "Commune                                                            \n",
       "......5583 Crissier                            7930      88      29\n",
       "......5589 Prilly                             12399     134     109\n",
       "......5591 Renens (VD)                        20927     226     130\n",
       "......5624 Bussigny                            8736     109      37\n",
       "......5627 Chavannes-près-Renens               7727     113      32\n",
       "......5635 Ecublens (VD)                      12863     136      73\n",
       "......5648 Saint-Sulpice (VD)                  4668      41      28\n",
       "......5651 Villars-Sainte-Croix                 962       8       5\n",
       ">> District de la Riviera-Pays-d'Enhaut       84980     790     723\n",
       "......5841 Château-d'Oex                       3461      32      42\n",
       "......5842 Rossinière                           546       7       5\n",
       "......5843 Rougemont                            882       9      15"
      ]
     },
     "execution_count": 2,
     "metadata": {},
     "output_type": "execute_result"
    }
   ],
   "source": [
    "df.iloc[2075:2087]"
   ]
  },
  {
   "cell_type": "code",
   "execution_count": 3,
   "metadata": {},
   "outputs": [
    {
     "data": {
      "text/html": [
       "<div>\n",
       "<style scoped>\n",
       "    .dataframe tbody tr th:only-of-type {\n",
       "        vertical-align: middle;\n",
       "    }\n",
       "\n",
       "    .dataframe tbody tr th {\n",
       "        vertical-align: top;\n",
       "    }\n",
       "\n",
       "    .dataframe thead th {\n",
       "        text-align: right;\n",
       "    }\n",
       "</style>\n",
       "<table border=\"1\" class=\"dataframe\">\n",
       "  <thead>\n",
       "    <tr style=\"text-align: right;\">\n",
       "      <th></th>\n",
       "      <th>Canton</th>\n",
       "    </tr>\n",
       "    <tr>\n",
       "      <th>Abbreviation</th>\n",
       "      <th></th>\n",
       "    </tr>\n",
       "  </thead>\n",
       "  <tbody>\n",
       "    <tr>\n",
       "      <th>ZH</th>\n",
       "      <td>Zürich</td>\n",
       "    </tr>\n",
       "    <tr>\n",
       "      <th>BE</th>\n",
       "      <td>Bern</td>\n",
       "    </tr>\n",
       "    <tr>\n",
       "      <th>LU</th>\n",
       "      <td>Lucerne</td>\n",
       "    </tr>\n",
       "    <tr>\n",
       "      <th>UR</th>\n",
       "      <td>Uri</td>\n",
       "    </tr>\n",
       "    <tr>\n",
       "      <th>SZ</th>\n",
       "      <td>Schwyz</td>\n",
       "    </tr>\n",
       "  </tbody>\n",
       "</table>\n",
       "</div>"
      ],
      "text/plain": [
       "               Canton\n",
       "Abbreviation         \n",
       "ZH             Zürich\n",
       "BE               Bern\n",
       "LU            Lucerne\n",
       "UR                Uri\n",
       "SZ             Schwyz"
      ]
     },
     "execution_count": 3,
     "metadata": {},
     "output_type": "execute_result"
    }
   ],
   "source": [
    "abbreviations.head()"
   ]
  },
  {
   "cell_type": "code",
   "execution_count": 4,
   "metadata": {},
   "outputs": [],
   "source": [
    "#################################################\n",
    "############# YOUR CODE STARTS HERE #############\n",
    "#################################################\n",
    "\n",
    "pass\n",
    "\n",
    "#################################################\n",
    "############## YOUR CODE ENDS HERE ##############\n",
    "#################################################"
   ]
  },
  {
   "cell_type": "markdown",
   "metadata": {},
   "source": [
    "## Submission\n",
    "\n",
    "Submit the **canton population** on the following link: [https://forms.gle/BBkKQcEQmA2CxYVD6](https://forms.gle/BBkKQcEQmA2CxYVD6)."
   ]
  }
 ],
 "metadata": {
  "kernelspec": {
   "display_name": "Python 3",
   "language": "python",
   "name": "python3"
  },
  "language_info": {
   "codemirror_mode": {
    "name": "ipython",
    "version": 3
   },
   "file_extension": ".py",
   "mimetype": "text/x-python",
   "name": "python",
   "nbconvert_exporter": "python",
   "pygments_lexer": "ipython3",
   "version": "3.7.9"
  }
 },
 "nbformat": 4,
 "nbformat_minor": 4
}
