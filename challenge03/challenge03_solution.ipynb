{
 "cells": [
  {
   "cell_type": "markdown",
   "metadata": {},
   "source": [
    "<img src=\"https://i.ibb.co/hcrKx44/Weekly-Challenge-Banner.png\" >"
   ]
  },
  {
   "cell_type": "markdown",
   "metadata": {},
   "source": [
    "# Weekly Challenge 3\n",
    "## Description\n",
    "\n",
    "Hello everyone and welcome to the third challenge! In this week's challenge, you will learn how to handle a common problem in data science: _missing data_. \n"
   ]
  },
  {
   "cell_type": "markdown",
   "metadata": {},
   "source": [
    "## The dataset\n",
    "For this task, we produced a _corrupted_ version of the classic <a href=\"https://archive.ics.uci.edu/ml/datasets/iris\">iris</a> dataset.\n",
    "\n",
    "This dataset describes the characteristics of iris flowers through four features:\n",
    " * Sepal length\n",
    " * Sepal width\n",
    " * Petal length\n",
    " * Petal width\n",
    "\n",
    "Obviously, these values have to be **strictly** positive.\n",
    "\n",
    "However, you will observe that some values are missing/incoherent. We will assume here that the values are <a href=\"https://en.wikipedia.org/wiki/Missing_data#Missing_completely_at_random\">missing completely at random</a>."
   ]
  },
  {
   "cell_type": "markdown",
   "metadata": {},
   "source": [
    "## The task\n",
    "Your task is to clean the dataset by performing *median imputation*, i.e., replacing the missing values by the feature median. While there are numerous techniques to deal with missing data, median (or mean) imputation are among the most frequently used methods.\n",
    "\n",
    "After replacing the missing values, submit the median **sepal length** of flowers whose **petal length** is greater than or equal to 5.5 cm."
   ]
  },
  {
   "cell_type": "code",
   "execution_count": 1,
   "metadata": {},
   "outputs": [],
   "source": [
    "import pandas as pd\n",
    "\n",
    "# Load data\n",
    "df = pd.read_csv('data/iris_corrupted.csv')"
   ]
  },
  {
   "cell_type": "code",
   "execution_count": 2,
   "metadata": {},
   "outputs": [
    {
     "output_type": "execute_result",
     "data": {
      "text/plain": [
       "     sepal length (cm)  sepal width (cm)  petal length (cm)  petal width (cm)\n",
       "140                9.7               NaN                4.4               1.4\n",
       "141               -1.0               2.6                4.4               1.2\n",
       "142                6.8               2.8                4.8               1.4\n",
       "143                4.8               3.0                1.4               0.3\n",
       "144                7.7               3.0                6.1               2.3\n",
       "145                7.7               3.8                NaN               2.2\n",
       "146                NaN               3.1                NaN               2.4\n",
       "147                5.0               2.3                3.3               1.0\n",
       "148                7.0               3.3                1.4               NaN\n",
       "149               -1.0               2.9                5.6               1.8"
      ],
      "text/html": "<div>\n<style scoped>\n    .dataframe tbody tr th:only-of-type {\n        vertical-align: middle;\n    }\n\n    .dataframe tbody tr th {\n        vertical-align: top;\n    }\n\n    .dataframe thead th {\n        text-align: right;\n    }\n</style>\n<table border=\"1\" class=\"dataframe\">\n  <thead>\n    <tr style=\"text-align: right;\">\n      <th></th>\n      <th>sepal length (cm)</th>\n      <th>sepal width (cm)</th>\n      <th>petal length (cm)</th>\n      <th>petal width (cm)</th>\n    </tr>\n  </thead>\n  <tbody>\n    <tr>\n      <th>140</th>\n      <td>9.7</td>\n      <td>NaN</td>\n      <td>4.4</td>\n      <td>1.4</td>\n    </tr>\n    <tr>\n      <th>141</th>\n      <td>-1.0</td>\n      <td>2.6</td>\n      <td>4.4</td>\n      <td>1.2</td>\n    </tr>\n    <tr>\n      <th>142</th>\n      <td>6.8</td>\n      <td>2.8</td>\n      <td>4.8</td>\n      <td>1.4</td>\n    </tr>\n    <tr>\n      <th>143</th>\n      <td>4.8</td>\n      <td>3.0</td>\n      <td>1.4</td>\n      <td>0.3</td>\n    </tr>\n    <tr>\n      <th>144</th>\n      <td>7.7</td>\n      <td>3.0</td>\n      <td>6.1</td>\n      <td>2.3</td>\n    </tr>\n    <tr>\n      <th>145</th>\n      <td>7.7</td>\n      <td>3.8</td>\n      <td>NaN</td>\n      <td>2.2</td>\n    </tr>\n    <tr>\n      <th>146</th>\n      <td>NaN</td>\n      <td>3.1</td>\n      <td>NaN</td>\n      <td>2.4</td>\n    </tr>\n    <tr>\n      <th>147</th>\n      <td>5.0</td>\n      <td>2.3</td>\n      <td>3.3</td>\n      <td>1.0</td>\n    </tr>\n    <tr>\n      <th>148</th>\n      <td>7.0</td>\n      <td>3.3</td>\n      <td>1.4</td>\n      <td>NaN</td>\n    </tr>\n    <tr>\n      <th>149</th>\n      <td>-1.0</td>\n      <td>2.9</td>\n      <td>5.6</td>\n      <td>1.8</td>\n    </tr>\n  </tbody>\n</table>\n</div>"
     },
     "metadata": {},
     "execution_count": 2
    }
   ],
   "source": [
    "df.tail(10)"
   ]
  },
  {
   "source": [
    "### Step-by-step solution"
   ],
   "cell_type": "markdown",
   "metadata": {}
  },
  {
   "cell_type": "code",
   "execution_count": 3,
   "metadata": {},
   "outputs": [
    {
     "output_type": "execute_result",
     "data": {
      "text/plain": [
       "     sepal length (cm)  sepal width (cm)  petal length (cm)  petal width (cm)\n",
       "145                7.7               3.8                NaN               2.2\n",
       "146                NaN               3.1                NaN               2.4\n",
       "147                5.0               2.3                3.3               1.0\n",
       "148                7.0               3.3                1.4               NaN\n",
       "149                NaN               2.9                5.6               1.8"
      ],
      "text/html": "<div>\n<style scoped>\n    .dataframe tbody tr th:only-of-type {\n        vertical-align: middle;\n    }\n\n    .dataframe tbody tr th {\n        vertical-align: top;\n    }\n\n    .dataframe thead th {\n        text-align: right;\n    }\n</style>\n<table border=\"1\" class=\"dataframe\">\n  <thead>\n    <tr style=\"text-align: right;\">\n      <th></th>\n      <th>sepal length (cm)</th>\n      <th>sepal width (cm)</th>\n      <th>petal length (cm)</th>\n      <th>petal width (cm)</th>\n    </tr>\n  </thead>\n  <tbody>\n    <tr>\n      <th>145</th>\n      <td>7.7</td>\n      <td>3.8</td>\n      <td>NaN</td>\n      <td>2.2</td>\n    </tr>\n    <tr>\n      <th>146</th>\n      <td>NaN</td>\n      <td>3.1</td>\n      <td>NaN</td>\n      <td>2.4</td>\n    </tr>\n    <tr>\n      <th>147</th>\n      <td>5.0</td>\n      <td>2.3</td>\n      <td>3.3</td>\n      <td>1.0</td>\n    </tr>\n    <tr>\n      <th>148</th>\n      <td>7.0</td>\n      <td>3.3</td>\n      <td>1.4</td>\n      <td>NaN</td>\n    </tr>\n    <tr>\n      <th>149</th>\n      <td>NaN</td>\n      <td>2.9</td>\n      <td>5.6</td>\n      <td>1.8</td>\n    </tr>\n  </tbody>\n</table>\n</div>"
     },
     "metadata": {},
     "execution_count": 3
    }
   ],
   "source": [
    "import numpy as np\n",
    "\n",
    "# Replace all zero and negative entries by NaNs\n",
    "# (Note: all missing values are already represented by NaNs)\n",
    "df[df <= 0] = np.nan\n",
    "df.tail()"
   ]
  },
  {
   "cell_type": "code",
   "execution_count": 4,
   "metadata": {},
   "outputs": [
    {
     "output_type": "execute_result",
     "data": {
      "text/plain": [
       "     sepal length (cm)  sepal width (cm)  petal length (cm)  petal width (cm)\n",
       "145                7.7               3.8                4.3               2.2\n",
       "146                5.9               3.1                4.3               2.4\n",
       "147                5.0               2.3                3.3               1.0\n",
       "148                7.0               3.3                1.4               1.3\n",
       "149                5.9               2.9                5.6               1.8"
      ],
      "text/html": "<div>\n<style scoped>\n    .dataframe tbody tr th:only-of-type {\n        vertical-align: middle;\n    }\n\n    .dataframe tbody tr th {\n        vertical-align: top;\n    }\n\n    .dataframe thead th {\n        text-align: right;\n    }\n</style>\n<table border=\"1\" class=\"dataframe\">\n  <thead>\n    <tr style=\"text-align: right;\">\n      <th></th>\n      <th>sepal length (cm)</th>\n      <th>sepal width (cm)</th>\n      <th>petal length (cm)</th>\n      <th>petal width (cm)</th>\n    </tr>\n  </thead>\n  <tbody>\n    <tr>\n      <th>145</th>\n      <td>7.7</td>\n      <td>3.8</td>\n      <td>4.3</td>\n      <td>2.2</td>\n    </tr>\n    <tr>\n      <th>146</th>\n      <td>5.9</td>\n      <td>3.1</td>\n      <td>4.3</td>\n      <td>2.4</td>\n    </tr>\n    <tr>\n      <th>147</th>\n      <td>5.0</td>\n      <td>2.3</td>\n      <td>3.3</td>\n      <td>1.0</td>\n    </tr>\n    <tr>\n      <th>148</th>\n      <td>7.0</td>\n      <td>3.3</td>\n      <td>1.4</td>\n      <td>1.3</td>\n    </tr>\n    <tr>\n      <th>149</th>\n      <td>5.9</td>\n      <td>2.9</td>\n      <td>5.6</td>\n      <td>1.8</td>\n    </tr>\n  </tbody>\n</table>\n</div>"
     },
     "metadata": {},
     "execution_count": 4
    }
   ],
   "source": [
    "# Replace all NaNs by the median of the non-NaN column features\n",
    "df = df.fillna(df.median())\n",
    "df.tail()"
   ]
  },
  {
   "cell_type": "code",
   "execution_count": 5,
   "metadata": {},
   "outputs": [
    {
     "output_type": "execute_result",
     "data": {
      "text/plain": [
       "sepal length (cm)    6.9\n",
       "sepal width (cm)     3.0\n",
       "petal length (cm)    5.8\n",
       "petal width (cm)     2.1\n",
       "dtype: float64"
      ]
     },
     "metadata": {},
     "execution_count": 5
    }
   ],
   "source": [
    "# Find the median sepal length of flowers whose petal length is >= 5.5\n",
    "df[df['petal length (cm)'] >= 5.5].median()"
   ]
  },
  {
   "cell_type": "code",
   "execution_count": 6,
   "metadata": {},
   "outputs": [
    {
     "output_type": "execute_result",
     "data": {
      "text/plain": [
       "6.9"
      ]
     },
     "metadata": {},
     "execution_count": 6
    }
   ],
   "source": [
    "df[df['petal length (cm)'] >= 5.5].median()['sepal length (cm)']"
   ]
  },
  {
   "source": [
    "### Or as a one-liner\n",
    "The code below only works from Python 3.8 up because it uses the new walrus assignment operator. In order to be able to run it, you might have to create a new environment with `conda create --name py38 python=3.8 pandas jupyter` and activate it using `conda activate py38`."
   ],
   "cell_type": "markdown",
   "metadata": {}
  },
  {
   "cell_type": "code",
   "execution_count": 7,
   "metadata": {},
   "outputs": [
    {
     "output_type": "execute_result",
     "data": {
      "text/plain": [
       "6.9"
      ]
     },
     "metadata": {},
     "execution_count": 7
    }
   ],
   "source": [
    "# Reload data\n",
    "df = pd.read_csv('data/iris_corrupted.csv')\n",
    "\n",
    "(df_imputed := (dfnan := df.mask(df <= 0)).fillna(dfnan.median()))[df_imputed['petal length (cm)'] >= 5.5].median()['sepal length (cm)']\n"
   ]
  },
  {
   "cell_type": "markdown",
   "metadata": {},
   "source": [
    "## Congratulations to everyone that found the solution!"
   ]
  }
 ],
 "metadata": {
  "kernelspec": {
   "name": "python3",
   "display_name": "Python 3.8.8 64-bit ('py38': conda)",
   "metadata": {
    "interpreter": {
     "hash": "34586dd493247e50d9e8a8c73bd3aeba92171e7dfb9bd06cfda1c8671668201e"
    }
   }
  },
  "language_info": {
   "codemirror_mode": {
    "name": "ipython",
    "version": 3
   },
   "file_extension": ".py",
   "mimetype": "text/x-python",
   "name": "python",
   "nbconvert_exporter": "python",
   "pygments_lexer": "ipython3",
   "version": "3.8.8-final"
  }
 },
 "nbformat": 4,
 "nbformat_minor": 4
}