{
 "cells": [
  {
   "cell_type": "markdown",
   "metadata": {},
   "source": [
    "<img src=\"https://i.ibb.co/hcrKx44/Weekly-Challenge-Banner.png\" >"
   ]
  },
  {
   "cell_type": "markdown",
   "metadata": {},
   "source": [
    "# Spring 2021: Ultimate Weekly Challenge Solutions\n",
    "## Description\n",
    "\n",
    "Hello everyone and welcome to the ultimate challenge! \n",
    "\n",
    "This challenge will feature three \"mini-problems\", inspired by various programming platforms and university courses.\n",
    "\n",
    "To win the prize, solve ALL the problems with the shortest code. The winner will be determined based on the total amount of characters (i.e., less is better) used for all three problems. Comments will not count towards the total amount of characters used.\n",
    "\n",
    "N.B. All imports are included in the character count. Ex: a function that calls \"datetime\" needs \"import datetime\", meaning that the \"import datetime\" characters will be counted."
   ]
  },
  {
   "cell_type": "markdown",
   "metadata": {},
   "source": [
    "## Task 1: Sudoku validator\n",
    "\n",
    "Write a function that tests whether a <a href=https://en.wikipedia.org/wiki/Sudoku>Sudoku</a> puzzle is valid.\n",
    "\n",
    "A puzzle is correct when each row, each column and each 3x3 subgrid contain all of the digits from 1 to 9."
   ]
  },
  {
   "cell_type": "code",
   "execution_count": 1,
   "metadata": {},
   "outputs": [],
   "source": [
    "#################################################\n",
    "############# YOUR CODE STARTS HERE #############\n",
    "#################################################\n",
    "\n",
    "import numpy as np\n",
    "\n",
    "# Define starting indexes of subgrids \n",
    "subarrays = [\n",
    "    (0, 0), (0, 3), (0, 6),\n",
    "    (3, 0), (3, 3), (3, 6),\n",
    "    (6, 0), (6, 3), (6, 6)\n",
    "]\n",
    "\n",
    "# Helper function to determine if a given array could be \n",
    "# a valid sudoku row / col / subgrid \n",
    "is_valid = lambda arr: \\\n",
    "    len(arr) == 9 and \\\n",
    "    all(i in arr for i in range(1, 10))\n",
    "\n",
    "def is_sudoku_valid(sudoku):\n",
    "    '''\n",
    "    Parameters\n",
    "    --------\n",
    "    sudoku: list[list[int]]\n",
    "        A list of int lists representing the sudoku\n",
    "    \n",
    "    Returns\n",
    "    --------\n",
    "    is_valid: boolean\n",
    "        True if the sudoku is valid, False otherwise\n",
    "    '''\n",
    "    # Map input to np array so we can slice it however we want\n",
    "    np_arr = np.array(sudoku)\n",
    "    \n",
    "    return all(\n",
    "        # Check row\n",
    "        is_valid(np_arr[i, :]) and\n",
    "        # Check col\n",
    "        is_valid(np_arr[:, i]) and\n",
    "        # Check subarray\n",
    "        is_valid(np_arr[\n",
    "            subarrays[i][0]:subarrays[i][0]+3,\n",
    "            subarrays[i][1]:subarrays[i][1]+3\n",
    "        ].ravel())\n",
    "        # For all 9 possible rows/cols/subarrays\n",
    "        for i in range(9)\n",
    "    )\n",
    "\n",
    "#################################################\n",
    "############## YOUR CODE ENDS HERE ##############\n",
    "#################################################"
   ]
  },
  {
   "cell_type": "code",
   "execution_count": 2,
   "metadata": {},
   "outputs": [
    {
     "output_type": "stream",
     "name": "stdout",
     "text": [
      "\u001b[92mPassed test 1\u001b[0m\n\n\u001b[92mPassed test 2\u001b[0m\n\n\u001b[92mPassed test 3\u001b[0m\n\n\u001b[92mPassed test 4\u001b[0m\n\n\u001b[92mPassed test 5\u001b[0m\n\n\u001b[92mPassed test 6\u001b[0m\n\n"
     ]
    }
   ],
   "source": [
    "test_inputs = [[[5, 3, 4, 6, 7, 8, 9, 1, 2],\n",
    "                [6, 7, 2, 1, 9, 5, 3, 4, 8],\n",
    "                [1, 9, 8, 3, 4, 2, 5, 6, 7],\n",
    "                [8, 5, 9, 7, 6, 1, 4, 2, 3],\n",
    "                [4, 2, 6, 8, 5, 3, 7, 9, 1],\n",
    "                [7, 1, 3, 9, 2, 4, 8, 5, 6],\n",
    "                [9, 6, 1, 5, 3, 7, 2, 8, 4],\n",
    "                [2, 8, 7, 4, 1, 9, 6, 3, 5],\n",
    "                [3, 4, 5, 2, 8, 6, 1, 7, 9]],\n",
    "               [[5, 3, 4, 6, 7, 8, 9, 1, 2],\n",
    "                [6, 7, 2, 1, 9, 0, 3, 4, 8],\n",
    "                [1, 0, 0, 3, 4, 2, 5, 6, 0],\n",
    "                [8, 5, 9, 7, 6, 1, 0, 2, 0],\n",
    "                [4, 2, 6, 8, 5, 3, 7, 9, 1],\n",
    "                [7, 1, 3, 9, 2, 4, 8, 5, 6],\n",
    "                [9, 0, 1, 5, 3, 7, 2, 1, 4],\n",
    "                [2, 8, 7, 4, 1, 9, 6, 3, 5],\n",
    "                [3, 0, 0, 4, 8, 1, 1, 7, 9]],\n",
    "               [[4, 3, 9, 3, 1, 5, 8, 4, 7],\n",
    "                [8, 6, 8, 5, 7, 3, 9, 6, 1],\n",
    "                [1, 5, 6, 3, 6, 1, 1, 2, 3],\n",
    "                [6, 4, 9, 9, 4, 9, 7, 4, 4],\n",
    "                [8, 5, 6, 3, 5, 3, 4, 9, 2],\n",
    "                [3, 4, 8, 3, 9, 9, 2, 5, 2],\n",
    "                [4, 3, 3, 6, 3, 3, 1, 6, 9],\n",
    "                [2, 1, 1, 9, 6, 9, 6, 7, 1],\n",
    "                [4, 7, 5, 1, 5, 3, 3, 4, 1]],\n",
    "               [[9, 3, 3, 3, 1, 1, 5, 6, 1],\n",
    "                [8, 7, 5, 3, 3, 6, 9, 7, 9],\n",
    "                [1, 1, 2, 8, 3, 4, 6, 4, 9],\n",
    "                [4, 5, 5, 5, 5, 3, 4, 4, 5],\n",
    "                [7, 7, 4, 5, 6, 3, 8, 2, 2],\n",
    "                [8, 4, 2, 9, 4, 3, 8, 8, 3],\n",
    "                [6, 7, 2, 3, 8, 3, 5, 7, 9],\n",
    "                [1, 4, 9, 8, 3, 9, 4, 5, 4],\n",
    "                [6, 5, 7, 1, 6, 3, 2, 3, 9]],\n",
    "               [[1, 3, 2, 5, 7, 9, 4, 6, 8],\n",
    "                [4, 9, 8, 2, 6, 1, 3, 7, 5],\n",
    "                [7, 5, 6, 3, 8, 4, 2, 1, 9],\n",
    "                [6, 4, 3, 1, 5, 8, 7, 9, 2],\n",
    "                [5, 2, 1, 7, 9, 3, 8, 4, 6],\n",
    "                [9, 8, 7, 4, 2, 6, 5, 3, 1],\n",
    "                [2, 1, 4, 9, 3, 5, 6, 8, 7],\n",
    "                [3, 6, 5, 8, 1, 7, 9, 2, 4],\n",
    "                [8, 7, 9, 6, 4, 2, 1, 5, 3]],\n",
    "               [[1, 2, 3, 4, 5, 6, 7, 8, 9],\n",
    "                [2, 3, 4, 5, 6, 7, 8, 9, 1],\n",
    "                [3, 4, 5, 6, 7, 8, 9, 1, 2],\n",
    "                [4, 5, 6, 7, 8, 9, 1, 2, 3],\n",
    "                [5, 6, 7, 8, 9, 1, 2, 3, 4],\n",
    "                [6, 7, 8, 9, 1, 2, 3, 4, 5],\n",
    "                [7, 8, 9, 1, 2, 3, 4, 5, 6],\n",
    "                [8, 9, 1, 2, 3, 4, 5, 6, 7],\n",
    "                [9, 1, 2, 3, 4, 5, 6, 7, 8]],\n",
    "               ]\n",
    "\n",
    "test_outputs = [True,\n",
    "                False,\n",
    "                False,\n",
    "                False,\n",
    "                True,\n",
    "                False]\n",
    "\n",
    "\n",
    "for i, (input_, output_) in enumerate(zip(test_inputs, test_outputs)):\n",
    "    answer = is_sudoku_valid(input_)\n",
    "    if answer == output_:\n",
    "        print(f'\\033[92mPassed test {i+1}\\033[0m')\n",
    "    else:\n",
    "        print(f'\\033[91mFailed test {i+1}\\033[0m')\n",
    "        print(f'Input: {input_}')\n",
    "        print(f'Output: {answer}')\n",
    "        print(f'Expected: {output_}')\n",
    "\n",
    "    print()"
   ]
  },
  {
   "source": [
    "### Shortest submitted solution"
   ],
   "cell_type": "markdown",
   "metadata": {}
  },
  {
   "cell_type": "code",
   "execution_count": null,
   "metadata": {},
   "outputs": [],
   "source": [
    "import numpy as n\n",
    "\n",
    "def is_sudoku_valid(s):\n",
    "    a=n.array(s)-1\n",
    "    i=[0,3,6]*3\n",
    "    return all(all(n.isin(range(9),x)) for q,r in zip(i,sorted(i)) for x in (a[q//3+r],a[:,q//3+r],a[q:q+3,r:r+3]))"
   ]
  },
  {
   "cell_type": "markdown",
   "metadata": {},
   "source": [
    "## Task 2: Date aggregator\n",
    "\n",
    "Write a function that aggregates a list of dates by week. Here, a _week_ is considered to start on a **Sunday** and end on a **Saturday**, and a _date_ is a string with format DD-MM-YY.\n",
    "\n",
    "Example:\n",
    " * Input: \\[01-02-2021, 02-02-2021, 08-08-2021, 13-02-2021, 15-02-2020\\] (**the input may not be sorted!**)\n",
    " * Output: \\[\\[01-02-2021, 02-02-2021\\], \\[08-02-2021, 13-02-2021\\], \\[15-02-2021\\]\\]\n",
    "\n",
    "Hint: the library `datetime` and its function `datetime.datetime.strptime` will probably be very useful."
   ]
  },
  {
   "cell_type": "code",
   "execution_count": 3,
   "metadata": {},
   "outputs": [],
   "source": [
    "#################################################\n",
    "############# YOUR CODE STARTS HERE #############\n",
    "#################################################\n",
    "\n",
    "from functools import reduce\n",
    "from datetime import datetime, timedelta\n",
    "\n",
    "def aggregate_by_week(dates):\n",
    "    '''\n",
    "    Parameters\n",
    "    --------\n",
    "    dates: list\n",
    "        A list of string representing DD-MM-YY dates\n",
    "    \n",
    "    Returns\n",
    "    --------\n",
    "    list\n",
    "        List of lists = aggregation of `dates` by week\n",
    "    '''\n",
    "\n",
    "    date_format = '%d-%m-%Y'\n",
    "    to_date = lambda s: datetime.strptime(s, date_format)\n",
    "\n",
    "    # Helper function that returns the start of the week for a given date string\n",
    "    get_week_start = lambda s: (\n",
    "        # Transform date \n",
    "        to_date(s) - \n",
    "        # Remove number of days after Sunday\n",
    "        # Note: since .weekday() returns 0 for Monday and 6 for Sunday,\n",
    "        # we have to manipulate the offset \n",
    "        timedelta(days=(to_date(s).weekday() + 1) % 7)\n",
    "    )\n",
    "\n",
    "    # The following code is better read inside out\n",
    "    # @Python: where yo pipe operator at?\n",
    "    return list(dict(\n",
    "        # Sort every week by its week start date\n",
    "        sorted({\n",
    "            # Sort every week-subarray\n",
    "            k: sorted(v, key=to_date)\n",
    "            for k, v in \n",
    "            reduce(\n",
    "                # Aggregate dates by week (unsorted)\n",
    "                # The OR operator enables us to perform an operation on\n",
    "                # the accumulator (`x`) and return the modified object\n",
    "                lambda x, y: x.setdefault(get_week_start(y), []).append(y) or x, \n",
    "                dates,\n",
    "                dict()\n",
    "            ).items()\n",
    "        }.items())\n",
    "    ).values())\n",
    "\n",
    "# You could also do this task with pandas\n",
    "\n",
    "#################################################\n",
    "############## YOUR CODE ENDS HERE ##############\n",
    "#################################################"
   ]
  },
  {
   "cell_type": "code",
   "execution_count": 4,
   "metadata": {},
   "outputs": [
    {
     "output_type": "stream",
     "name": "stdout",
     "text": [
      "\u001b[92mPassed test\u001b[0m\n"
     ]
    }
   ],
   "source": [
    "test_input=[ '02-05-2021',             '10-01-2021',             '20-02-2021',             '26-05-2021',\n",
    "             '25-07-2021',             '12-12-2021',             '02-02-2021',             '05-09-2021',\n",
    "             '10-11-2021',             '25-03-2021',             '07-12-2021',             '18-06-2021',\n",
    "             '02-01-2021',             '19-05-2021',             '09-11-2021',             '15-03-2021',\n",
    "             '21-08-2021',             '22-02-2021',             '16-03-2021',             '05-08-2021',\n",
    "             '15-06-2021',             '27-09-2021',             '01-06-2021',             '05-01-2021',\n",
    "             '30-08-2021',             '18-03-2021',             '13-04-2021',             '03-12-2021',\n",
    "             '02-11-2021',             '11-11-2021',             '12-05-2021',             '15-02-2021',\n",
    "             '23-05-2021',             '17-09-2021',             '19-12-2021',             '27-07-2021',\n",
    "             '10-08-2021',             '25-08-2021',             '29-08-2021',             '04-09-2021',\n",
    "             '22-08-2021',             '22-12-2021',             '06-12-2021',             '14-09-2021',\n",
    "             '11-08-2021',             '02-07-2021',             '27-02-2021',             '18-12-2021',\n",
    "             '13-12-2021',             '03-07-2021',             '17-01-2021',             '06-07-2021',\n",
    "             '28-05-2021',             '14-11-2021',             '12-03-2021',             '21-12-2021',\n",
    "             '18-07-2021',             '08-09-2021',             '15-12-2021',             '14-10-2021',\n",
    "             '10-04-2021',             '18-01-2021',             '29-06-2021',             '23-06-2021',\n",
    "             '29-09-2021',             '08-05-2021',             '23-08-2021',             '14-01-2021',\n",
    "             '24-11-2021',             '16-06-2021',             '04-05-2021',             '27-06-2021',\n",
    "             '13-03-2021',             '27-12-2021',             '16-05-2021',             '31-07-2021',\n",
    "             '05-06-2021',             '16-08-2021',             '14-03-2021',             '23-11-2021',\n",
    "             '15-10-2021',             '05-03-2021',             '20-11-2021',             '25-05-2021',\n",
    "             '06-09-2021',             '05-07-2021',             '20-10-2021',             '05-11-2021',\n",
    "             '01-11-2021',             '04-08-2021',             '04-02-2021',             '23-02-2021',\n",
    "             '19-04-2021',             '08-03-2021',             '05-12-2021',             '31-05-2021',\n",
    "             '19-02-2021',             '23-03-2021',             '18-09-2021',             '22-05-2021']\n",
    "\n",
    "test_output=[['02-01-2021'],\n",
    "             ['05-01-2021'],\n",
    "             ['10-01-2021', '14-01-2021'],\n",
    "             ['17-01-2021', '18-01-2021'],\n",
    "             ['02-02-2021', '04-02-2021'],\n",
    "             ['15-02-2021', '19-02-2021', '20-02-2021'],\n",
    "             ['22-02-2021', '23-02-2021', '27-02-2021'],\n",
    "             ['05-03-2021'],\n",
    "             ['08-03-2021', '12-03-2021', '13-03-2021'],\n",
    "             ['14-03-2021', '15-03-2021', '16-03-2021', '18-03-2021'],\n",
    "             ['23-03-2021', '25-03-2021'],\n",
    "             ['10-04-2021'],\n",
    "             ['13-04-2021'],\n",
    "             ['19-04-2021'],\n",
    "             ['02-05-2021', '04-05-2021', '08-05-2021'],\n",
    "             ['12-05-2021'],\n",
    "             ['16-05-2021', '19-05-2021', '22-05-2021'],\n",
    "             ['23-05-2021', '25-05-2021', '26-05-2021', '28-05-2021'],\n",
    "             ['31-05-2021', '01-06-2021', '05-06-2021'],\n",
    "             ['15-06-2021', '16-06-2021', '18-06-2021'],\n",
    "             ['23-06-2021'],\n",
    "             ['27-06-2021', '29-06-2021', '02-07-2021', '03-07-2021'],\n",
    "             ['05-07-2021', '06-07-2021'],\n",
    "             ['18-07-2021'],\n",
    "             ['25-07-2021', '27-07-2021', '31-07-2021'],\n",
    "             ['04-08-2021', '05-08-2021'],\n",
    "             ['10-08-2021', '11-08-2021'],\n",
    "             ['16-08-2021', '21-08-2021'],\n",
    "             ['22-08-2021', '23-08-2021', '25-08-2021'],\n",
    "             ['29-08-2021', '30-08-2021', '04-09-2021'],\n",
    "             ['05-09-2021', '06-09-2021', '08-09-2021'],\n",
    "             ['14-09-2021', '17-09-2021', '18-09-2021'],\n",
    "             ['27-09-2021', '29-09-2021'],\n",
    "             ['14-10-2021', '15-10-2021'],\n",
    "             ['20-10-2021'],\n",
    "             ['01-11-2021', '02-11-2021', '05-11-2021'],\n",
    "             ['09-11-2021', '10-11-2021', '11-11-2021'],\n",
    "             ['14-11-2021', '20-11-2021'],\n",
    "             ['23-11-2021', '24-11-2021'],\n",
    "             ['03-12-2021'],\n",
    "             ['05-12-2021', '06-12-2021', '07-12-2021'],\n",
    "             ['12-12-2021', '13-12-2021', '15-12-2021', '18-12-2021'],\n",
    "             ['19-12-2021', '21-12-2021', '22-12-2021'],\n",
    "             ['27-12-2021']]\n",
    "\n",
    "answer = aggregate_by_week(test_input)\n",
    "if len(answer) == len(test_output) and answer == test_output:\n",
    "    print(f'\\033[92mPassed test\\033[0m')\n",
    "else:\n",
    "    print(f'\\033[91mFailed test\\033[0m')\n",
    "    print(f'Input: {test_input}')\n",
    "    print(f'Output: {answer}')\n",
    "    print(f'Expected: {test_output}')"
   ]
  },
  {
   "source": [
    "### Shortest submitted solution"
   ],
   "cell_type": "markdown",
   "metadata": {}
  },
  {
   "cell_type": "code",
   "execution_count": 1,
   "metadata": {},
   "outputs": [],
   "source": [
    "import pandas as p\n",
    "\n",
    "def aggregate_by_week(d):\n",
    "    f=p.DatetimeIndex(d,dayfirst=1).isocalendar().sort_index()\n",
    "    f.week+=(f.day>6).astype(int)\n",
    "    f[f.week>52]=0\n",
    "    f['i']=f.index.strftime('%d-%m-%Y')\n",
    "    return [*f.groupby(f.week).i.apply(list)]"
   ]
  },
  {
   "cell_type": "markdown",
   "metadata": {},
   "source": [
    "## Task 3: Number printer\n",
    "\n",
    "Your keyboard is partially broken: you cannot type numbers anymore. Write a function that returns all the numbers from 0 to 50 (50 included, in increasing order) without using any actual numbers in your code. The function cannot accept parameters."
   ]
  },
  {
   "cell_type": "code",
   "execution_count": 5,
   "metadata": {},
   "outputs": [],
   "source": [
    "#################################################\n",
    "############# YOUR CODE STARTS HERE #############\n",
    "#################################################\n",
    "\n",
    "def get_numbers():\n",
    "    '''\n",
    "    Returns\n",
    "    --------\n",
    "    list\n",
    "        All the numbers from 0 to 50, 50 included.\n",
    "    '''\n",
    "    \n",
    "    # We use the fact that we can transform chars to their int value\n",
    "    return list(range(ord('S')-ord(' ')))\n",
    "\n",
    "#################################################\n",
    "############## YOUR CODE ENDS HERE ##############\n",
    "#################################################"
   ]
  },
  {
   "cell_type": "code",
   "execution_count": 6,
   "metadata": {},
   "outputs": [
    {
     "output_type": "stream",
     "name": "stdout",
     "text": [
      "[0, 1, 2, 3, 4, 5, 6, 7, 8, 9, 10, 11, 12, 13, 14, 15, 16, 17, 18, 19, 20, 21, 22, 23, 24, 25, 26, 27, 28, 29, 30, 31, 32, 33, 34, 35, 36, 37, 38, 39, 40, 41, 42, 43, 44, 45, 46, 47, 48, 49, 50]\n"
     ]
    }
   ],
   "source": [
    "print(get_numbers())"
   ]
  },
  {
   "source": [
    "### Shortest submitted solution"
   ],
   "cell_type": "markdown",
   "metadata": {}
  },
  {
   "cell_type": "code",
   "execution_count": null,
   "metadata": {},
   "outputs": [],
   "source": [
    "def get_numbers():\n",
    "    return [*range(ord('a')-ord('.'))]"
   ]
  },
  {
   "cell_type": "markdown",
   "metadata": {},
   "source": [
    "## Congratulations to everyone who found the solutions!"
   ]
  }
 ],
 "metadata": {
  "kernelspec": {
   "name": "python373jvsc74a57bd01464bcc8a0161b620731524b8c6d869a6258628036caca40bd6add951cb952bd",
   "display_name": "Python 3.7.3 64-bit ('antho': virtualenv)"
  },
  "language_info": {
   "codemirror_mode": {
    "name": "ipython",
    "version": 3
   },
   "file_extension": ".py",
   "mimetype": "text/x-python",
   "name": "python",
   "nbconvert_exporter": "python",
   "pygments_lexer": "ipython3",
   "version": "3.7.3"
  }
 },
 "nbformat": 4,
 "nbformat_minor": 4
}