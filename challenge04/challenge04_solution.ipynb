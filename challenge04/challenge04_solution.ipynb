{
 "cells": [
  {
   "cell_type": "markdown",
   "metadata": {},
   "source": [
    "<img src=\"https://i.ibb.co/hcrKx44/Weekly-Challenge-Banner.png\" >"
   ]
  },
  {
   "cell_type": "markdown",
   "metadata": {},
   "source": [
    "# Weekly Challenge 4 solutions\n",
    "## Description\n",
    "\n",
    "Hello everyone and welcome to the fourth challenge! Like in week 2, this week's challenge will be more \"algorithm-centered\".\n",
    "\n",
    "Once again, the challenge here was inspired by a \"kata\" on [codewars](https://www.codewars.com), an educational platform to learn programming."
   ]
  },
  {
   "cell_type": "markdown",
   "metadata": {},
   "source": [
    "## The task\n",
    "\n",
    "Write a function that converts <a href=https://en.wikipedia.org/wiki/Roman_numerals>Roman numerals</a> (I, V, X, ..., M) to Arabic numerals (i.e., 1, ..., 10). \n",
    "\n",
    "As outlined in the article linked above, the largest number that can be represented with the \"standard\" notation is 3,999 (MMMCMXCIX), so the numbers in this task will not exceed this upper bound.\n",
    "\n",
    "The output should simply be an integer corresponding to the Arabic version of the Roman numeral input."
   ]
  },
  {
   "cell_type": "code",
   "execution_count": 1,
   "metadata": {},
   "outputs": [],
   "source": [
    "#################################################\n",
    "############# YOUR CODE STARTS HERE #############\n",
    "#################################################\n",
    "\n",
    "# The lazy way\n",
    "# Define the value of each building block\n",
    "mapping = {\n",
    "    'I': 1,\n",
    "    'V': 5,\n",
    "    'X': 10,\n",
    "    'L': 50,\n",
    "    'C': 100,\n",
    "    'D': 500,\n",
    "    'M': 1000,\n",
    "    'IV': 4,\n",
    "    'IX': 9,\n",
    "    'XL': 40,\n",
    "    'XC': 90,\n",
    "    'CD': 400,\n",
    "    'CM': 900\n",
    "}\n",
    "\n",
    "def roman_to_arabic(x):\n",
    "    '''\n",
    "    Parameters\n",
    "    --------\n",
    "    x: string\n",
    "        A string containing a Roman number\n",
    "    \n",
    "    Returns\n",
    "    --------\n",
    "    value: int\n",
    "        The value of the Roman number represented by `x` as an int\n",
    "    '''\n",
    "    idx = 0\n",
    "    total = 0\n",
    "\n",
    "    # Iterate through the whole Roman string\n",
    "    while idx < len(x):\n",
    "        # Check if we can find a matching block of length 2 (e.g., `IX`)\n",
    "        if x[idx:idx+2] in mapping:\n",
    "            total += mapping[x[idx:idx+2]]\n",
    "            idx += 2\n",
    "        # Otherwise we have to be able to find a matching block of length 1\n",
    "        else:\n",
    "            total += mapping[x[idx]]\n",
    "            idx += 1\n",
    "\n",
    "    return total\n",
    "\n",
    "#################################################\n",
    "############## YOUR CODE ENDS HERE ##############\n",
    "#################################################"
   ]
  },
  {
   "cell_type": "markdown",
   "metadata": {},
   "source": [
    "### Tests: verify that your code is correct!"
   ]
  },
  {
   "cell_type": "code",
   "execution_count": 2,
   "metadata": {},
   "outputs": [
    {
     "output_type": "stream",
     "name": "stdout",
     "text": [
      "\u001b[92mPassed test 1\u001b[0m\n\n\u001b[92mPassed test 2\u001b[0m\n\n\u001b[92mPassed test 3\u001b[0m\n\n\u001b[92mPassed test 4\u001b[0m\n\n\u001b[92mPassed test 5\u001b[0m\n\n\u001b[92mPassed test 6\u001b[0m\n\n\u001b[92mPassed test 7\u001b[0m\n\n\u001b[92mPassed test 8\u001b[0m\n\n\u001b[92mPassed test 9\u001b[0m\n\n"
     ]
    }
   ],
   "source": [
    "test_inputs = [\"XXXIX\",\n",
    "               \"CCXLVI\",\n",
    "               \"DCCLXXXIX\",\n",
    "               \"MMCDXXI\", \n",
    "               \"CLX\",\n",
    "               \"CCVII\",\n",
    "               \"MCCXCI\",\n",
    "               \"MDCCCXLVIII\",\n",
    "               \"MMXXI\"\n",
    "               ]\n",
    "\n",
    "test_outputs = [39,\n",
    "                246,\n",
    "                789,\n",
    "                2421,\n",
    "                160,\n",
    "                207,\n",
    "                1291,\n",
    "                1848,\n",
    "                2021\n",
    "               ]\n",
    "\n",
    "\n",
    "for i, (input_, output_) in enumerate(zip(test_inputs, test_outputs)):\n",
    "    answer = roman_to_arabic(input_)\n",
    "    if answer == output_:\n",
    "        print(f'\\033[92mPassed test {i+1}\\033[0m')\n",
    "    else:\n",
    "        print(f'\\033[91mFailed test {i+1}\\033[0m')\n",
    "        print(f'Input: {input_}')\n",
    "        print(f'Output: {answer}')\n",
    "        print(f'Expected: {output_}')\n",
    "\n",
    "    print()"
   ]
  },
  {
   "cell_type": "code",
   "execution_count": 3,
   "metadata": {},
   "outputs": [
    {
     "output_type": "execute_result",
     "data": {
      "text/plain": [
       "4962"
      ]
     },
     "metadata": {},
     "execution_count": 3
    }
   ],
   "source": [
    "numbers = ['LIV', 'XXVII', 'XLVI', 'LXIV',\n",
    " 'XL', 'XC', 'XXI', 'XCVIII',\n",
    " 'LXVII', 'LXIII', 'XXXIII', 'XCI',\n",
    " 'C', 'LXXIX', 'LVI', 'XXVI',\n",
    " 'XCIII', 'LVI', 'XLV', 'LXXXV',\n",
    " 'XLIX', 'XCII', 'XXV', 'XXVI',\n",
    " 'LI', 'XXII', 'XXXV', 'XLIII',\n",
    " 'XXXIII', 'L', 'XV', 'XLV',\n",
    " 'LXVI', 'XL', 'XIII', 'XIV',\n",
    " 'XLIX', 'LIV', 'VIII', 'LXIII',\n",
    " 'XLIV', 'LXXVII', 'XLVI', 'LXXXIV',\n",
    " 'XXXIX', 'LXXXVIII', 'XCI', 'II',\n",
    " 'LXXI', 'LXXVI', 'VI', 'X',\n",
    " 'III', 'L', 'XLI', 'XX', 'LI',\n",
    " 'XX', 'X', 'LXIII', 'XCI',\n",
    " 'XXXV', 'XV', 'XXIII', 'XLIII',\n",
    " 'LXVIII', 'LIII', 'LXXXIV', 'XXIV',\n",
    " 'XC', 'XVII', 'XXV', 'L',\n",
    " 'I', 'I', 'XLIX', 'XXIX',\n",
    " 'XCIV', 'LXXII', 'LXI', 'XLIII',\n",
    " 'XXXV', 'LXI', 'XLVI', 'LXXI',\n",
    " 'LXXVI', 'LXXVIII', 'XCVIII', 'XXIV',\n",
    " 'XL', 'LX', 'XXXIX', 'XCIX',\n",
    " 'XX', 'LXI', 'LXXIX', 'XXXVI',\n",
    " 'LIV', 'IX', 'LXXXIX']\n",
    "\n",
    "sum(roman_to_arabic(x) for x in numbers)"
   ]
  },
  {
   "cell_type": "markdown",
   "metadata": {},
   "source": [
    "## Congratulations to everyone who found the solution!"
   ]
  }
 ],
 "metadata": {
  "kernelspec": {
   "display_name": "Python 3",
   "language": "python",
   "name": "python3"
  },
  "language_info": {
   "codemirror_mode": {
    "name": "ipython",
    "version": 3
   },
   "file_extension": ".py",
   "mimetype": "text/x-python",
   "name": "python",
   "nbconvert_exporter": "python",
   "pygments_lexer": "ipython3",
   "version": "3.7.3-final"
  }
 },
 "nbformat": 4,
 "nbformat_minor": 4
}