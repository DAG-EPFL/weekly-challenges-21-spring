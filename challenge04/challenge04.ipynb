{
 "cells": [
  {
   "cell_type": "markdown",
   "metadata": {},
   "source": [
    "<img src=\"https://i.ibb.co/hcrKx44/Weekly-Challenge-Banner.png\" >"
   ]
  },
  {
   "cell_type": "markdown",
   "metadata": {},
   "source": [
    "# Weekly Challenge 4\n",
    "## Description\n",
    "\n",
    "Hello everyone and welcome to the fourth challenge! Like in week 2, this week's challenge will be more \"algorithm-centered\".\n",
    "\n",
    "Once again, the challenge here was inspired by a \"kata\" on [codewars](https://www.codewars.com), an educational platform to learn programming."
   ]
  },
  {
   "cell_type": "markdown",
   "metadata": {},
   "source": [
    "## The task\n",
    "\n",
    "Write a function that converts <a href=https://en.wikipedia.org/wiki/Roman_numerals>Roman numerals</a> (I, V, X, ..., M) to Arabic numerals (i.e., 1, ..., 10). \n",
    "\n",
    "As outlined in the article linked above, the largest number that can be represented with the \"standard\" notation is 3,999 (MMMCMXCIX), so the numbers in this task will not exceed this upper bound.\n",
    "\n",
    "The output should simply be an integer corresponding to the Arabic version of the Roman numeral input."
   ]
  },
  {
   "cell_type": "code",
   "execution_count": null,
   "metadata": {},
   "outputs": [],
   "source": [
    "#################################################\n",
    "############# YOUR CODE STARTS HERE #############\n",
    "#################################################\n",
    "\n",
    "def roman_to_arabic(x):\n",
    "    '''\n",
    "    Parameters\n",
    "    --------\n",
    "    x: string\n",
    "        A string containing a Roman number\n",
    "    \n",
    "    Returns\n",
    "    --------\n",
    "    value: int\n",
    "        The value of the Roman number represented by `x` as an int\n",
    "    '''\n",
    "    return 0\n",
    "\n",
    "#################################################\n",
    "############## YOUR CODE ENDS HERE ##############\n",
    "#################################################"
   ]
  },
  {
   "cell_type": "markdown",
   "metadata": {},
   "source": [
    "### Tests: verify that your code is correct!"
   ]
  },
  {
   "cell_type": "code",
   "execution_count": null,
   "metadata": {},
   "outputs": [],
   "source": [
    "test_inputs = [\"XXXIX\",\n",
    "               \"CCXLVI\",\n",
    "               \"DCCLXXXIX\",\n",
    "               \"MMCDXXI\", \n",
    "               \"CLX\",\n",
    "               \"CCVII\",\n",
    "               \"MCCXCI\",\n",
    "               \"MDCCCXLVIII\",\n",
    "               \"MMXXI\"\n",
    "               ]\n",
    "\n",
    "test_outputs = [39,\n",
    "                246,\n",
    "                789,\n",
    "                2421,\n",
    "                160,\n",
    "                207,\n",
    "                1291,\n",
    "                1848,\n",
    "                2021\n",
    "               ]\n",
    "\n",
    "\n",
    "for i, (input_, output_) in enumerate(zip(test_inputs, test_outputs)):\n",
    "    answer = roman_to_arabic(input_)\n",
    "    if answer == output_:\n",
    "        print(f'\\033[92mPassed test {i+1}\\033[0m')\n",
    "    else:\n",
    "        print(f'\\033[91mFailed test {i+1}\\033[0m')\n",
    "        print(f'Input: {input_}')\n",
    "        print(f'Output: {answer}')\n",
    "        print(f'Expected: {output_}')\n",
    "\n",
    "    print()"
   ]
  },
  {
   "cell_type": "markdown",
   "metadata": {},
   "source": [
    "## Submission\n",
    "\n",
    "Submit the **sum of the list of numbers below** on the following link: [https://forms.gle/EPzk9QkX8jQbDp6r8](https://forms.gle/EPzk9QkX8jQbDp6r8)."
   ]
  },
  {
   "cell_type": "code",
   "execution_count": null,
   "metadata": {},
   "outputs": [],
   "source": [
    "numbers = ['LIV', 'XXVII', 'XLVI', 'LXIV',\n",
    " 'XL', 'XC', 'XXI', 'XCVIII',\n",
    " 'LXVII', 'LXIII', 'XXXIII', 'XCI',\n",
    " 'C', 'LXXIX', 'LVI', 'XXVI',\n",
    " 'XCIII', 'LVI', 'XLV', 'LXXXV',\n",
    " 'XLIX', 'XCII', 'XXV', 'XXVI',\n",
    " 'LI', 'XXII', 'XXXV', 'XLIII',\n",
    " 'XXXIII', 'L', 'XV', 'XLV',\n",
    " 'LXVI', 'XL', 'XIII', 'XIV',\n",
    " 'XLIX', 'LIV', 'VIII', 'LXIII',\n",
    " 'XLIV', 'LXXVII', 'XLVI', 'LXXXIV',\n",
    " 'XXXIX', 'LXXXVIII', 'XCI', 'II',\n",
    " 'LXXI', 'LXXVI', 'VI', 'X',\n",
    " 'III', 'L', 'XLI', 'XX', 'LI',\n",
    " 'XX', 'X', 'LXIII', 'XCI',\n",
    " 'XXXV', 'XV', 'XXIII', 'XLIII',\n",
    " 'LXVIII', 'LIII', 'LXXXIV', 'XXIV',\n",
    " 'XC', 'XVII', 'XXV', 'L',\n",
    " 'I', 'I', 'XLIX', 'XXIX',\n",
    " 'XCIV', 'LXXII', 'LXI', 'XLIII',\n",
    " 'XXXV', 'LXI', 'XLVI', 'LXXI',\n",
    " 'LXXVI', 'LXXVIII', 'XCVIII', 'XXIV',\n",
    " 'XL', 'LX', 'XXXIX', 'XCIX',\n",
    " 'XX', 'LXI', 'LXXIX', 'XXXVI',\n",
    " 'LIV', 'IX', 'LXXXIX']\n",
    "\n",
    "sum(roman_to_arabic(x) for x in numbers)"
   ]
  }
 ],
 "metadata": {
  "kernelspec": {
   "display_name": "Python 3",
   "language": "python",
   "name": "python3"
  },
  "language_info": {
   "codemirror_mode": {
    "name": "ipython",
    "version": 3
   },
   "file_extension": ".py",
   "mimetype": "text/x-python",
   "name": "python",
   "nbconvert_exporter": "python",
   "pygments_lexer": "ipython3",
   "version": "3.6.9"
  }
 },
 "nbformat": 4,
 "nbformat_minor": 4
}