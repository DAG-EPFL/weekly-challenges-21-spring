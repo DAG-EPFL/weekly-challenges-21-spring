{
 "cells": [
  {
   "cell_type": "markdown",
   "metadata": {},
   "source": [
    "<img src=\"https://i.ibb.co/hcrKx44/Weekly-Challenge-Banner.png\" >"
   ]
  },
  {
   "cell_type": "markdown",
   "metadata": {},
   "source": [
    "# Weekly Challenge 2\n",
    "## Description\n",
    "\n",
    "Hello everyone and welcome to the second challenge! Every week, we alternate between data science-y and more algorithmic exercises, meaning that this week's challenge will of the latter kind (as you may encounter similar tasks during interviews, even for data science jobs!). \n",
    "\n",
    "The challenge here was inspired by a \"kata\" on [codewars](https://www.codewars.com), an educational platform to learn programming."
   ]
  },
  {
   "cell_type": "markdown",
   "metadata": {},
   "source": [
    "## The task\n",
    "\n",
    "Your task is to write a function that, given a string of text (possibly with punctuation and line-breaks), returns a **list** of the **top 5** most occurring words (i.e., characters delimited by spaces), in descending order of the number of occurrences.\n",
    "\n",
    "The text should first be **lower-cased**, and thus you should only return lowercase words.\n",
    "\n",
    "If a text contains fewer than 5 unique words, you should return the top-X words (where X is the number of distinct words in the string) or an empty list if a text contains no words. For texts with more than five unique words, the tests will have an exact solution (i.e., no ties, so you can decide how to deal with them).\n",
    "\n",
    "(N.B. **\"words\"** only contain letters, no punctuation!)\n",
    "\n",
    "**Example:** If the input is \"a a a a a b b b b c d d d e e e e e e f g g h\", your function should return the list \\['e', 'a', 'b', 'd', 'g'\\], because there are 6 \"e\", 5 \"a\", 4 \"b\", 3 \"d\" and 2 \"g\"."
   ]
  },
  {
   "cell_type": "code",
   "execution_count": null,
   "metadata": {},
   "outputs": [],
   "source": [
    "#################################################\n",
    "############# YOUR CODE STARTS HERE #############\n",
    "#################################################\n",
    "\n",
    "def top_5_words(x):\n",
    "    '''\n",
    "    Parameters\n",
    "    --------\n",
    "    x: string\n",
    "        The string from which we want the top-5-most-occurring words\n",
    "    \n",
    "    Returns\n",
    "    --------\n",
    "    top_words: list[string]\n",
    "        A list of the top-5-most-occurring words in `x`\n",
    "    '''\n",
    "    return None\n",
    "\n",
    "#################################################\n",
    "############## YOUR CODE ENDS HERE ##############\n",
    "#################################################"
   ]
  },
  {
   "cell_type": "markdown",
   "metadata": {},
   "source": [
    "## Tests: verify that your code is correct!"
   ]
  },
  {
   "cell_type": "code",
   "execution_count": null,
   "metadata": {},
   "outputs": [],
   "source": [
    "test_inputs = [\"a a a a a b b b b c d d d e e e e e e f g g h\",\n",
    "               \"e e e e DDD ddd DdD: ddd ddd aa aA Aa, bb cc cC e e e\",\n",
    "               \"  ...  \",\n",
    "               \"  '''  \", \n",
    "               \" /  \",\n",
    "               \" \",\n",
    "               \"To be, or not to be, that is the question: Whether 'tis nobler in the mind to suffer The slings and arrows of outrageous fortune, Or to take arms against a sea of troubles And by opposing end them\"\n",
    "               ]\n",
    "\n",
    "test_outputs = [['e', 'a', 'b', 'd', 'g'],\n",
    "                ['e', 'ddd', 'aa', 'cc', 'bb'],\n",
    "                [],\n",
    "                [],\n",
    "                [],\n",
    "                [],\n",
    "                ['to', 'the', 'be', 'or', 'and'],       \n",
    "               ]\n",
    "\n",
    "for i, (input_, output_) in enumerate(zip(test_inputs, test_outputs)):\n",
    "    answer = top_5_words(input_)\n",
    "    if answer == output_:\n",
    "        print(f'\\033[92mPassed test {i+1}\\033[0m')\n",
    "    else:\n",
    "        print(f'\\033[91mFailed test {i+1}\\033[0m')\n",
    "        print(f'Input: {input_}')\n",
    "        print(f'Output: {answer}')\n",
    "        print(f'Expected: {output_}')\n",
    "\n",
    "    print()"
   ]
  },
  {
   "source": [
    "## Submission\n",
    "\n",
    "Submit the **second most frequent word in the sentence below** on the following link: [https://forms.gle/BX6h7gn4YY5Mfg239](https://forms.gle/BX6h7gn4YY5Mfg239).\n"
   ],
   "cell_type": "markdown",
   "metadata": {}
  },
  {
   "cell_type": "code",
   "execution_count": null,
   "metadata": {},
   "outputs": [],
   "source": [
    "test_input = \"I have a dream today. I have a dream that one day every valley shall be exhalted, every hill and mountain shall be made low,\\\n",
    "               the rough places will be made plain, and the crooked places will be made straight, and the glory of the Lord shall be revealed,\\\n",
    "               and all flesh shall see it together.\"\n",
    "\n",
    "top_5_words(test_input)[1]"
   ]
  }
 ],
 "metadata": {
  "kernelspec": {
   "display_name": "Python 3",
   "language": "python",
   "name": "python3"
  },
  "language_info": {
   "codemirror_mode": {
    "name": "ipython",
    "version": 3
   },
   "file_extension": ".py",
   "mimetype": "text/x-python",
   "name": "python",
   "nbconvert_exporter": "python",
   "pygments_lexer": "ipython3",
   "version": "3.7.3-final"
  }
 },
 "nbformat": 4,
 "nbformat_minor": 4
}